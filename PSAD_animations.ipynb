{
 "cells": [
  {
   "cell_type": "code",
   "execution_count": 1,
   "metadata": {
    "collapsed": false,
    "extensions": {
     "jupyter_dashboards": {
      "version": 1,
      "views": {
       "grid_default": {
        "col": 0,
        "height": 4,
        "hidden": false,
        "row": 0,
        "width": 4
       },
       "report_default": {}
      }
     }
    }
   },
   "outputs": [
    {
     "data": {
      "text/html": [
       "<style>\n",
       ".container { width:100% !important; }\n",
       ".input{ width:50% !important;\n",
       "       align: center;\n",
       "    \n",
       "      }\n",
       ".text_cell{ width:70% !important;\n",
       "            font-size: 16px;\n",
       "          text-align: center;}\n",
       ".title {align:center !important;}\n",
       "</style>"
      ],
      "text/plain": [
       "<IPython.core.display.HTML object>"
      ]
     },
     "metadata": {},
     "output_type": "display_data"
    }
   ],
   "source": [
    "%%HTML\n",
    "<style>\n",
    ".container { width:100% !important; }\n",
    ".input{ width:50% !important;\n",
    "       align: center;\n",
    "    \n",
    "      }\n",
    ".text_cell{ width:70% !important;\n",
    "            font-size: 16px;\n",
    "          text-align: center;}\n",
    ".title {align:center !important;}\n",
    "</style>"
   ]
  },
  {
   "cell_type": "code",
   "execution_count": 2,
   "metadata": {
    "collapsed": false,
    "extensions": {
     "jupyter_dashboards": {
      "version": 1,
      "views": {
       "grid_default": {
        "hidden": true
       },
       "report_default": {}
      }
     }
    }
   },
   "outputs": [
    {
     "data": {
      "application/javascript": [
       "require.undef(\"nbextensions/jquery-ui.custom.min\");"
      ],
      "text/plain": [
       "<IPython.core.display.Javascript object>"
      ]
     },
     "metadata": {},
     "output_type": "display_data"
    },
    {
     "data": {
      "application/javascript": [
       "require.undef(\"nbextensions/glow.2.1.min\");"
      ],
      "text/plain": [
       "<IPython.core.display.Javascript object>"
      ]
     },
     "metadata": {},
     "output_type": "display_data"
    },
    {
     "data": {
      "application/javascript": [
       "require.undef(\"nbextensions/glowcomm\");"
      ],
      "text/plain": [
       "<IPython.core.display.Javascript object>"
      ]
     },
     "metadata": {},
     "output_type": "display_data"
    },
    {
     "data": {
      "application/javascript": [
       "require.undef(\"nbextensions/pako.min\");"
      ],
      "text/plain": [
       "<IPython.core.display.Javascript object>"
      ]
     },
     "metadata": {},
     "output_type": "display_data"
    },
    {
     "data": {
      "application/javascript": [
       "require.undef(\"nbextensions/pako_deflate.min\");"
      ],
      "text/plain": [
       "<IPython.core.display.Javascript object>"
      ]
     },
     "metadata": {},
     "output_type": "display_data"
    },
    {
     "data": {
      "application/javascript": [
       "require.undef(\"nbextensions/pako_inflate.min\");"
      ],
      "text/plain": [
       "<IPython.core.display.Javascript object>"
      ]
     },
     "metadata": {},
     "output_type": "display_data"
    },
    {
     "data": {
      "application/javascript": [
       "require([\"nbextensions/glowcomm\"], function(){console.log(\"glowcomm loaded\");})"
      ],
      "text/plain": [
       "<IPython.core.display.Javascript object>"
      ]
     },
     "metadata": {},
     "output_type": "display_data"
    },
    {
     "data": {
      "text/html": [
       "<div id=\"glowscript\" class=\"glowscript\"></div>"
      ],
      "text/plain": [
       "<IPython.core.display.HTML object>"
      ]
     },
     "metadata": {},
     "output_type": "display_data"
    },
    {
     "data": {
      "application/javascript": [
       "window.__context = { glowscript_container: $(\"#glowscript\").removeAttr(\"id\")}"
      ],
      "text/plain": [
       "<IPython.core.display.Javascript object>"
      ]
     },
     "metadata": {},
     "output_type": "display_data"
    },
    {
     "data": {
      "text/html": [
       "<script>requirejs.config({paths: { 'plotly': ['https://cdn.plot.ly/plotly-latest.min']},});if(!window.Plotly) {{require(['plotly'],function(plotly) {window.Plotly=plotly;});}}</script>"
      ],
      "text/plain": [
       "<IPython.core.display.HTML object>"
      ]
     },
     "metadata": {},
     "output_type": "display_data"
    }
   ],
   "source": [
    "import pandas as pd\n",
    "import numpy as np\n",
    "#Kung fu\n",
    "from shaolin.core.dashboard import Dashboard\n",
    "from shaolin.dashboards.slicers import ArraySlicer, AxisPlot, DataFrameSlicer, PanelSlicer\n",
    "from shaolin.dashboards.plot_mappers import PlotMapper\n",
    "from shaolin.dashboards.colormap import ColormapPicker\n",
    "#Plotting with Vpython and Plotly\n",
    "import vpython as vp\n",
    "from plotly.offline import download_plotlyjs, init_notebook_mode, plot, iplot\n",
    "import plotly.plotly as py\n",
    "import plotly.graph_objs as go\n",
    "from IPython.core.display import clear_output\n",
    "init_notebook_mode(connected=True)"
   ]
  },
  {
   "cell_type": "code",
   "execution_count": 7,
   "metadata": {
    "collapsed": false,
    "extensions": {
     "jupyter_dashboards": {
      "version": 1,
      "views": {
       "grid_default": {
        "hidden": true
       },
       "report_default": {}
      }
     }
    }
   },
   "outputs": [],
   "source": [
    "juno_journey = pd.read_pickle('juno_journey.pck')"
   ]
  },
  {
   "cell_type": "code",
   "execution_count": 8,
   "metadata": {
    "collapsed": false,
    "extensions": {
     "jupyter_dashboards": {
      "version": 1,
      "views": {
       "grid_default": {
        "col": 0,
        "height": 19,
        "hidden": false,
        "row": 4,
        "width": 10
       },
       "report_default": {}
      }
     }
    }
   },
   "outputs": [],
   "source": [
    "oplt = OrbitPlotter(juno_journey)\n",
    "oplt.widget"
   ]
  },
  {
   "cell_type": "code",
   "execution_count": 18,
   "metadata": {
    "collapsed": false,
    "extensions": {
     "jupyter_dashboards": {
      "version": 1,
      "views": {
       "grid_default": {
        "hidden": true
       },
       "report_default": {}
      }
     }
    }
   },
   "outputs": [],
   "source": [
    "oplt.sun.radius=1e7*3.5"
   ]
  },
  {
   "cell_type": "code",
   "execution_count": 9,
   "metadata": {
    "collapsed": false,
    "extensions": {
     "jupyter_dashboards": {
      "version": 1,
      "views": {
       "grid_default": {
        "col": 0,
        "height": 24,
        "hidden": false,
        "row": 23,
        "width": 7
       },
       "report_default": {}
      }
     }
    }
   },
   "outputs": [
    {
     "data": {
      "text/html": [
       "<div id=\"glowscript\" class=\"glowscript\"></div>"
      ],
      "text/plain": [
       "<IPython.core.display.HTML object>"
      ]
     },
     "metadata": {},
     "output_type": "display_data"
    },
    {
     "data": {
      "application/javascript": [
       "window.__context = { glowscript_container: $(\"#glowscript\").removeAttr(\"id\")}"
      ],
      "text/plain": [
       "<IPython.core.display.Javascript object>"
      ]
     },
     "metadata": {},
     "output_type": "display_data"
    },
    {
     "name": "stdout",
     "output_type": "stream",
     "text": [
      "<vpython.vpython.sphere object at 0x7f08d926f198>\n"
     ]
    }
   ],
   "source": [
    "oplt.init_display()\n",
    "oplt.init_balls()"
   ]
  },
  {
   "cell_type": "code",
   "execution_count": null,
   "metadata": {
    "collapsed": false,
    "extensions": {
     "jupyter_dashboards": {
      "version": 1,
      "views": {
       "grid_default": {
        "col": 0,
        "height": 4,
        "hidden": false,
        "row": 47,
        "width": 12
       },
       "report_default": {}
      }
     }
    }
   },
   "outputs": [],
   "source": [
    "ds = OrbitPlotterPlotly(juno_journey)\n",
    "ds.widget"
   ]
  },
  {
   "cell_type": "code",
   "execution_count": 3,
   "metadata": {
    "collapsed": true,
    "extensions": {
     "jupyter_dashboards": {
      "version": 1,
      "views": {
       "grid_default": {
        "hidden": true
       },
       "report_default": {}
      }
     }
    }
   },
   "outputs": [],
   "source": [
    "class DynamicSlider(Dashboard):\n",
    "    \n",
    "    def __init__(self,data,strf=\"%D\",mapper_dict=None, **kwargs):\n",
    "        if mapper_dict is None:\n",
    "            mapper_dict = {'x':{'max':100000.0,\n",
    "                        'min':0.0,\n",
    "                        'step':0.1,\n",
    "                        'high':10000.,\n",
    "                        'low':0.,\n",
    "                        'default':np.nan,\n",
    "                        'map_data':True,\n",
    "                        'fixed_active':True,\n",
    "                       },\n",
    "                   'y':{'max':100000.0,\n",
    "                        'min':0.0,\n",
    "                        'step':0.1,\n",
    "                        'high':10000.,\n",
    "                        'low':0.,\n",
    "                        'default':np.nan,\n",
    "                        'map_data':True,\n",
    "                        'fixed_active':True,\n",
    "                       },\n",
    "                    'z':{'max':100000.0,\n",
    "                        'min':0.0,\n",
    "                        'step':0.1,\n",
    "                        'high':10000.,\n",
    "                        'low':0.,\n",
    "                        'default':np.nan,\n",
    "                        'map_data':True,\n",
    "                        'fixed_active':True,\n",
    "                       },\n",
    "                   'size':{'max':100000,\n",
    "                        'min':1,\n",
    "                        'step':0.5,\n",
    "                        'high':1000,\n",
    "                        'low':100,\n",
    "                        'default':120,\n",
    "                        'map_data':True,\n",
    "                        'fixed_active':False,\n",
    "                       },\n",
    "\n",
    "                   'fill_alpha':{'max':1.0,\n",
    "                        'min':0.,\n",
    "                        'step':0.05,\n",
    "                        'high':0.95,\n",
    "                        'low':0.3,\n",
    "                        'default':1.,\n",
    "                        'map_data':False,\n",
    "                        'fixed_active':False,\n",
    "                       },\n",
    "                   'fill_color':{'default_color':'#FFFFFF','map_data':False,'step':0.05,'min':0.0,'low':0.0}\n",
    "            }\n",
    "        \n",
    "        \n",
    "        self._strf = strf\n",
    "        #self._oc = oc\n",
    "        self._data = None\n",
    "        self.data = data\n",
    "        mask = np.zeros(len(self.data.items.values))\n",
    "        mask[0] = 1\n",
    "        \n",
    "        mapper = PlotMapper(self.data.ix[0,:,:].copy(),mapper_dict=mapper_dict, name='data_mapper',mode='interactive')\n",
    "        axisplot = AxisPlot(self.data.items.values, mask=mask,name='axis_plot')\n",
    "        slider_vals = [pd.to_datetime(x).strftime(strf) for x in self.data.items.values]\n",
    "        #cols= oc.data.columns.tolist() + ['index']\n",
    "        dash = ['c$n=orbit_slider',[mapper,axisplot,['r$N=slider_row',['(1,'+str(len(self.data.items.values))+',1,1)$d=Step',\n",
    "                                  '@selslider$n=index_slider&o='+str(slider_vals),\n",
    "                                  'btn$D=play','text$n=many'\n",
    "                                 ]],['r$N=toggles_row',['@[True]$d=Slider&n=slider_btn']]\n",
    "               ]]\n",
    "        Dashboard.__init__(self,dash, **kwargs)\n",
    "        self.observe(self.update)\n",
    "        self.update()\n",
    "        self.data_mapper.x.data_slicer.columns_slicer.sel_sli.value = 'rx'\n",
    "        self.data_mapper.y.data_slicer.columns_slicer.sel_sli.value = 'ry'\n",
    "        self.data_mapper.z.data_slicer.columns_slicer.sel_sli.value = 'rz'\n",
    "        self.data_mapper.x.data_scaler.scale_chk.value = False\n",
    "        self.data_mapper.y.data_scaler.scale_chk.value = False\n",
    "        self.data_mapper.z.data_scaler.scale_chk.value = False\n",
    "    \n",
    "    @property\n",
    "    def data(self):\n",
    "        return self._data\n",
    "    \n",
    "    @data.setter\n",
    "    def data(self,val):\n",
    "        if isinstance(val,pd.DataFrame):\n",
    "            old_ix = val.index\n",
    "            val = val.reset_index()\n",
    "            val.index = old_ix\n",
    "            data = val.T.to_panel().copy()\n",
    "            \n",
    "        elif isinstance(val, pd.Panel):\n",
    "            data = val.copy()\n",
    "        else:\n",
    "            print(type(val))\n",
    "            raise NotImplementedError\n",
    "        \n",
    "        \n",
    "        self._data = data\n",
    "    def _update_layout(self, _=None):\n",
    "        \n",
    "        if self.slider_btn.value:\n",
    "            self.axis_plot.axisplot.visible = True\n",
    "            self.axis_plot.buttons_row.visible = True\n",
    "        else:\n",
    "            self.axis_plot.axisplot.visible = False\n",
    "            self.axis_plot.buttons_row.visible = False\n",
    "        self.axis_plot.update()\n",
    "\n",
    "    def update(self, _=None):\n",
    "        self._update_layout()\n",
    "        self.index_slider.options = [pd.to_datetime(x).strftime(self._strf) for x in self.data.ix[::self.step.value,:,:].items.values]\n",
    "        self.index = self.index_slider.options.index(self.index_slider.value)\n",
    "        self.axis_plot.data = self.data.ix[::self.step.value,:,:].items.values\n",
    "        self.axis_plot.mask = np.zeros(len(self.data.ix[::self.step.value,:,:].items.values))\n",
    "        self.axis_plot.mask[self.index] = 1000\n",
    "        self.data_mapper.data = self.data.ix[::self.step.value,:,:].ix[self.index,:,:]\n",
    "        self.output = self.data_mapper.output"
   ]
  },
  {
   "cell_type": "code",
   "execution_count": 4,
   "metadata": {
    "collapsed": false,
    "extensions": {
     "jupyter_dashboards": {
      "version": 1,
      "views": {
       "grid_default": {
        "hidden": true
       },
       "report_default": {}
      }
     }
    }
   },
   "outputs": [],
   "source": [
    "class OrbitPlotter(Dashboard):\n",
    "    \n",
    "    def __init__(self,data,**kwargs):\n",
    "        self.data = data\n",
    "        orbitslider = DynamicSlider(data,name='orbit_slider', mode='interactive')\n",
    "        dash = ['c$N=orbit_plotter',['##Orbit plot$N=title',orbitslider]]\n",
    "        Dashboard.__init__(self, dash, **kwargs)\n",
    "        self.observe(self.update)\n",
    "  \n",
    "    def init_display(self, title=\"\",width=1000,height=650,**kwargs):\n",
    "        canvas = vp.canvas(title=title, width=width, height=height, **kwargs)\n",
    "        return canvas\n",
    "    \n",
    "    @staticmethod\n",
    "    def HTMLColorToRGB(colorstring):\n",
    "        \"\"\" convert #RRGGBB to an (R, G, B) tuple \"\"\"\n",
    "        colorstring = colorstring.strip()\n",
    "        if colorstring[0] == '#': colorstring = colorstring[1:]\n",
    "        if len(colorstring) != 6:\n",
    "            raise ValueError\n",
    "        r, g, b = colorstring[:2], colorstring[2:4], colorstring[4:]\n",
    "        r, g, b = [int(n, 16) for n in (r, g, b)]\n",
    "        return (r, g, b)\n",
    "    \n",
    "    def init_balls(self):\n",
    "        rgb = self.HTMLColorToRGB('#edd70b')\n",
    "        color = vp.vector(rgb[0]/256.,rgb[1]/256.,rgb[2]/256.)\n",
    "        self.sun = vp.sphere(pos=vp.vector(0,0,0),radius=1e7*3.5,color=color, make_trail=True)\n",
    "\n",
    "        self.balls = {}\n",
    "        for planet in self.orbit_slider.output.index:\n",
    "            pos0 = vp.vector(self.orbit_slider.output.ix[planet,'x'],\n",
    "                             self.orbit_slider.output.ix[planet,'y'],\n",
    "                             self.orbit_slider.output.ix[planet,'z'])\n",
    "            rgb = self.HTMLColorToRGB(self.orbit_slider.output.ix[planet,'fill_color'])\n",
    "            color = vp.vector(rgb[0]/256.,rgb[1]/256.,rgb[2]/256.)\n",
    "            self.balls[planet] = vp.sphere(pos=pos0,radius= self.orbit_slider.output.ix[planet,'size']*1000,color=color, make_trail=True)\n",
    "        \n",
    "    \n",
    "    def update(self, _=None):\n",
    "        for planet in self.orbit_slider.output.index:\n",
    "            pos0 = vp.vector(self.orbit_slider.output.ix[planet,'x'],\n",
    "                             self.orbit_slider.output.ix[planet,'y'],\n",
    "                             self.orbit_slider.output.ix[planet,'z'])\n",
    "            self.balls[planet].pos = pos0\n",
    "            rgb = self.HTMLColorToRGB(self.orbit_slider.output.ix[planet,'fill_color'])\n",
    "            self.balls[planet].color  = vp.vector(rgb[0]/256.,rgb[1]/256.,rgb[2]/256.)\n",
    "            self.balls[planet].trail_color = vp.vector(rgb[0]/256.,rgb[1]/256.,rgb[2]/256.)\n",
    "            self.balls[planet].radius = self.orbit_slider.output.ix[planet,'size']*1e6"
   ]
  },
  {
   "cell_type": "code",
   "execution_count": 5,
   "metadata": {
    "collapsed": true,
    "extensions": {
     "jupyter_dashboards": {
      "version": 1,
      "views": {
       "grid_default": {
        "hidden": true
       },
       "report_default": {}
      }
     }
    }
   },
   "outputs": [],
   "source": [
    "class OrbitPlotterPlotly(Dashboard):\n",
    "    \n",
    "    def __init__(self,data,layout=None,**kwargs):\n",
    "        if layout is None:\n",
    "                layout = {'height': 800,\n",
    "                          'margin': {'autoexpand': True, 'b': 80, 'l': 80, 'pad': 0, 'r': 80, 't': 100},\n",
    "                          'plot_bgcolor':'#000',\n",
    "                          'paper_bgcolor':'#000',\n",
    "                          'font': {'color': '#fff', 'family': 'Verdana', 'size': 12},\n",
    "                          'titlefont': {'color': '#fff', 'family': 'Verdana', 'size': 22},\n",
    "                          'title':\"Juno's journey\",\n",
    "                          'width': 1200,}\n",
    "        self.ply_layout = go.Layout(**layout)\n",
    "        \n",
    "        mapper_dict_3d = {'x':{'max':100.0,\n",
    "                    'min':0.0,\n",
    "                    'step':0.1,\n",
    "                    'high':1.,\n",
    "                    'low':0.,\n",
    "                    'default':np.nan,\n",
    "                    'map_data':True,\n",
    "                    'fixed_active':True,\n",
    "                   },\n",
    "               'y':{'max':100.0,\n",
    "                    'min':0.0,\n",
    "                    'step':0.1,\n",
    "                    'high':1.,\n",
    "                    'low':0.,\n",
    "                    'default':np.nan,\n",
    "                    'map_data':True,\n",
    "                    'fixed_active':True,\n",
    "                   },\n",
    "                  'z':{'max':100.0,\n",
    "                    'min':0.0,\n",
    "                    'step':0.1,\n",
    "                    'high':1.,\n",
    "                    'low':0.,\n",
    "                    'default':np.nan,\n",
    "                    'map_data':True,\n",
    "                    'fixed_active':True,\n",
    "                   },\n",
    "               'size':{'max':100000,\n",
    "                    'min':1,\n",
    "                    'step':0.5,\n",
    "                    'high':20,\n",
    "                    'low':10,\n",
    "                    'default':12,\n",
    "                    'map_data':False,\n",
    "                    'fixed_active':False,\n",
    "                   },\n",
    "               'line_width':{'max':50,\n",
    "                    'min':0,\n",
    "                    'step':0.5,\n",
    "                    'high':5,\n",
    "                    'low':1,\n",
    "                    'default':2,\n",
    "                    'map_data':False,\n",
    "                    'fixed_active':False,\n",
    "                   },\n",
    "               'fill_alpha':{'max':1.0,\n",
    "                    'min':0.,\n",
    "                    'step':0.05,\n",
    "                    'high':0.95,\n",
    "                    'low':0.3,\n",
    "                    'default':1.,\n",
    "                    'map_data':False,\n",
    "                    'fixed_active':False,\n",
    "                   },\n",
    "               'line_alpha':{'max':1.0,\n",
    "                    'min':0.,\n",
    "                    'step':0.05,\n",
    "                    'high':0.95,\n",
    "                    'low':0.3,\n",
    "                    'default':1.,\n",
    "                    'map_data':False,\n",
    "                    'fixed_active':False,\n",
    "                   },\n",
    "               'line_color':{'default_color':'black','map_data':False,'step':0.05,'min':0.0,'low':0.0},\n",
    "               'fill_color':{'default_color':'blue','map_data':False,'step':0.05,'min':0.0,'low':0.0}\n",
    "              }\n",
    "        \n",
    "        orbitslider = DynamicSlider(data,name='orbit_slider', mode='interactive', mapper_dict=mapper_dict_3d)\n",
    "        dash = ['c$N=orbit_plotter',['##Orbit plot$N=title',orbitslider,'@sel$d=Marker mode&o=[\"lines+markers\",\"lines\",\"markers\"]',\"@[True]$d=Sun\",\n",
    "                                         ['c$N=slider_col',[\"@(1,100,1,12)$d=Sun size\",'@(0.01,100.,1.,2.)$d=Marker size']]]]\n",
    "        Dashboard.__init__(self, dash, **kwargs)\n",
    "        self.observe(self.update)\n",
    "        \n",
    "        self.marker_mode.observe(self.update)\n",
    "        self.data = data\n",
    "        self.marker_mode.widget.height='5em'\n",
    "        self.marker_mode.target.height='5em'\n",
    "        \n",
    "    @property\n",
    "    def data(self):\n",
    "        return self._data\n",
    "\n",
    "    @data.setter\n",
    "    def data(self,val):\n",
    "        self._data = val\n",
    "        self.update()\n",
    "\n",
    "\n",
    "    def create_trace_scatter3d(self, data,name,color):\n",
    "        x2, y2, z2 =  data[name]['rx'], data[name]['ry'], data[name]['rz']\n",
    "        trace = go.Scatter3d(\n",
    "            x=x2,\n",
    "            y=y2,\n",
    "            z=z2,\n",
    "            mode=self.marker_mode.value,\n",
    "            name=name,\n",
    "            text=data[name]['time'],\n",
    "            marker=dict(\n",
    "                color=color,\n",
    "                size=self.marker_size.value,\n",
    "                symbol='circle',\n",
    "                line=dict(\n",
    "                    color=color,\n",
    "                    width=3\n",
    "                ),\n",
    "                opacity=0.9\n",
    "            )\n",
    "        )\n",
    "        return trace\n",
    "\n",
    "    def planet_trace(self, _=None):\n",
    "\n",
    "        # text_data = self.orbit_slider.data_mapper.data.copy().drop('index')\n",
    "        #text_data['text'] = ''\n",
    "\n",
    "        clear_output(wait=True)\n",
    "        dft =  self.orbit_slider.output.copy()\n",
    "        trace1 = go.Scatter3d(\n",
    "            x=dft.x.values,\n",
    "            y=dft.y.values,\n",
    "            z=dft.z.values,\n",
    "            mode='markers',\n",
    "            #text=text_data['text'],\n",
    "            marker=dict(\n",
    "                size=dft['size'].values,\n",
    "                color=dft['fill_color'].values,\n",
    "\n",
    "                line=dict(\n",
    "                    color=dft['line_color'].values,\n",
    "                    width= dft['line_width'].values\n",
    "                ),\n",
    "                opacity=dft['fill_alpha'].values,\n",
    "            ))\n",
    "\n",
    "        return trace1\n",
    "\n",
    "    def update(self, _=None):\n",
    "        colors =  self.orbit_slider.data_mapper.line_color.cm_picker.map_data(range(len(self.data.columns.levels[0])),hex=True)\n",
    "        #cp.map_data(range(6),hex=True)\n",
    "\n",
    "        data = [self.create_trace_scatter3d(self.data.dropna(),name,colors[i]) for i,name in enumerate(self.data.columns.levels[0])]\n",
    "        points = [self.planet_trace()]\n",
    "        if self.sun.value:\n",
    "                sun = go.Scatter3d(\n",
    "                    x=[0.],\n",
    "                    y=[0.],\n",
    "                    z=[0.],\n",
    "                    mode='Markers',\n",
    "                    name='Sun',\n",
    "                    text='Sun',\n",
    "                    marker=dict(\n",
    "                        color='#edd70b',\n",
    "                        size=self.sun_size.value,\n",
    "                        symbol='circle',\n",
    "                        line=dict(\n",
    "                            color='#edd70b',\n",
    "                            width=1\n",
    "                        ),\n",
    "                        opacity=0.9\n",
    "                    )\n",
    "                )\n",
    "                data.append(sun)\n",
    "\n",
    "        #orbit_data = [create_trace_scatter3d(t.data,name,colors[i]) for i,name in enumerate(t.data.columns.levels[0])]\n",
    "        #clusters = [create_trace_clusters(t.data,name) for name in ['first_','man_']]\n",
    "\n",
    "        fig = go.Figure(data=data+points, layout=self.ply_layout)\n",
    "        clear_output(wait=True)\n",
    "        iplot(fig, filename='simple-3d-scatter')"
   ]
  },
  {
   "cell_type": "code",
   "execution_count": null,
   "metadata": {
    "collapsed": true,
    "extensions": {
     "jupyter_dashboards": {
      "version": 1,
      "views": {
       "grid_default": {
        "hidden": true
       },
       "report_default": {}
      }
     }
    }
   },
   "outputs": [],
   "source": []
  }
 ],
 "metadata": {
  "anaconda-cloud": {},
  "extensions": {
   "jupyter_dashboards": {
    "activeView": "grid_default",
    "version": 1,
    "views": {
     "grid_default": {
      "cellMargin": 10,
      "defaultCellHeight": 20,
      "maxColumns": 12,
      "name": "grid",
      "type": "grid"
     },
     "report_default": {
      "name": "report",
      "type": "report"
     }
    }
   }
  },
  "kernelspec": {
   "display_name": "VPython",
   "language": "python",
   "name": "vpython"
  },
  "language_info": {
   "codemirror_mode": {
    "name": "ipython",
    "version": 3
   },
   "file_extension": ".py",
   "mimetype": "text/x-python",
   "name": "python",
   "nbconvert_exporter": "python",
   "pygments_lexer": "ipython3",
   "version": "3.5.1"
  },
  "widgets": {
   "state": {
    "f6581181b1b4446b81394dfdb40a9258": {
     "views": [
      {
       "cell_index": 3
      }
     ]
    }
   },
   "version": "1.2.0"
  }
 },
 "nbformat": 4,
 "nbformat_minor": 0
}
